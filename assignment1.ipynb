{
  "nbformat": 4,
  "nbformat_minor": 0,
  "metadata": {
    "colab": {
      "provenance": [],
      "toc_visible": true
    },
    "kernelspec": {
      "name": "python3",
      "display_name": "Python 3"
    },
    "language_info": {
      "name": "python"
    }
  },
  "cells": [
    {
      "cell_type": "markdown",
      "source": [
        "# **Assignment 1**\n",
        "\n",
        "Cory Melendez"
      ],
      "metadata": {
        "id": "T1tmK91H2bCs"
      }
    },
    {
      "cell_type": "markdown",
      "source": [
        "### Background:\n",
        "One of the most coveted types of prediction, maybe only second to knowing the lottery numbers, is that of the stock market. Stock traders, that is Non HFT/algo traders, will typically look to tools such as quantitative analysis (QA). They attempt to detect patterns that arise from human behavior, believed to be unchanging. This project instead attempts to use ML models in order to build up a scientifically more sound method than methods such as QA that can predict how the market will move in the very short term.\n",
        "\n",
        "One of the challenges to this project, and will require further research, is to identity not only if our model will have an acceptable accuracy using the data below, but why. Markets are ever-changing, and are constantly affected not only by geoeconomic events, but geopolitical events as well. Identifying the circumstances where it *could* work and *when* it could work is just as important as building the model itself. We found paper 1, which goes over how researchers used this dataset, and paper 2, a summary of 100 published articles, to be a good starting point in understanding what we will call the 'reproducability' problem as well as understanding how to build our models better.\n",
        "\n",
        "The last challenge is the size of the data, I'll be trimming the number of columns not only to stay under the column limit, but to better narrow down and understand the factors that contribute to the output.\n",
        "\n",
        "\n",
        "\n",
        "### Project Description: \n",
        "This project's main aim is to output a binary classificiation that will be able to tell a theoritical day trader whether or not they should buy and sell a stock on a certain day.This project will use data from link below in order to build our ML models. We will also refer to the paper below in order for not only reference on how a model can be built, but to also refer to it for understanding the domain.\n",
        "\n",
        "Our main methodology will be to groom the data into something that is digestible by the model. Since our aim is to only output a binary classification (yes/no), the question we will be asking our model is 'should i buy the stock at close today and sell at close of tomorrow). This simple strategy will simplify the model greatly, but will require restructuring the data and creating a target column that our model predicts.\n",
        "\n",
        "Our simple metric for success is as follows: Can our model beat a trading algorithm that simply randomly outputs yes/no? A goal beyond that would be to answer: What other non-ML algorithms, in the same time and circumstances, can our model beat?\n",
        "\n",
        "\n",
        "Data: https://archive.ics.uci.edu/ml/datasets/CNNpred%3A+CNN-based+stock+market+prediction+using+a+diverse+set+of+variables\n",
        "\n",
        "Paper: https://reader.elsevier.com/reader/sd/pii/S0957417419301915?token=746C33D1046F2DDA4EE614C2A4606AF2260493F0DC652081FF1F03968E01DC023369A293A638CEE35E24DB8BB7EE1259&originRegion=us-east-1&originCreation=20230119051158\n",
        "\n",
        "Paper 2: https://reader.elsevier.com/reader/sd/pii/S0957417421009441?token=EEE8A8BF467B1370F99F73C46DC7AD74D88F0AB17AC08F5137A3B16E14E69D382DE8A689EF492C09E0CF67690D289807&originRegion=us-east-1&originCreation=20230119052216\n",
        "\n",
        "### Performance Metric: \n",
        "\n",
        "Our metric will be pretty simple, given any trade, or a group of trades, advised by the model, is: \n",
        "\n",
        "(current price - bought price ) * X > X * epsilon, where X is the amount of money that was invested and epsilon is any arbitrary small positive number\n",
        "\n",
        " \n",
        "If this statement is true, then our model has outperformed our money not entering the market at all.\n",
        "\n",
        "Furthermore, \n",
        "\n",
        "does:\n",
        "\n",
        "Sum(MLProfit) > Sum(RandomProfit)\n",
        "\n",
        "Where Sum(MLProfit) is the profit made from a arbitrary number of trades using our ML model greater, and Sum(RandomProfit) is the profit madae from an arbitrary number of trades using a random output algorithm.\n",
        "\n",
        "If so, then we have beaten randomness and have met our main objective."
      ],
      "metadata": {
        "id": "4NMWjlceyZ7q"
      }
    },
    {
      "cell_type": "code",
      "source": [],
      "metadata": {
        "id": "yNtZrVp3fEW-"
      },
      "execution_count": null,
      "outputs": []
    }
  ]
}