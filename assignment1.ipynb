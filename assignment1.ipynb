{
  "nbformat": 4,
  "nbformat_minor": 0,
  "metadata": {
    "colab": {
      "provenance": [],
      "toc_visible": true,
      "authorship_tag": "ABX9TyNEmbVGBGRTwp4PkSpBUJP2"
    },
    "kernelspec": {
      "name": "python3",
      "display_name": "Python 3"
    },
    "language_info": {
      "name": "python"
    }
  },
  "cells": [
    {
      "cell_type": "markdown",
      "source": [
        "# **Assignment 1**\n",
        "\n",
        "Cory Melendez"
      ],
      "metadata": {
        "id": "T1tmK91H2bCs"
      }
    },
    {
      "cell_type": "markdown",
      "source": [
        "#### Background:\n",
        "\n",
        "#### Project Description: \n",
        "\n",
        "#### Performance Metric: \n",
        "\n"
      ],
      "metadata": {
        "id": "4NMWjlceyZ7q"
      }
    }
  ]
}