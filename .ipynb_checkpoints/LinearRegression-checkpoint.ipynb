{
 "cells": [
  {
   "cell_type": "markdown",
   "metadata": {},
   "source": [
    "\n",
    "### Cory Melendez\n",
    "### Assignment: Linear Regression\n",
    "### CS5262-50"
   ]
  },
  {
   "cell_type": "markdown",
   "metadata": {},
   "source": [
    "### group stuff together\n",
    "randn method"
   ]
  },
  {
   "cell_type": "code",
   "execution_count": 29,
   "metadata": {},
   "outputs": [],
   "source": [
    "import pandas as pd"
   ]
  },
  {
   "cell_type": "code",
   "execution_count": 30,
   "metadata": {},
   "outputs": [],
   "source": [
    "food_truck_txt = 'food_truck_data.txt'\n",
    "housing_txt = 'housing_price_data.txt'"
   ]
  },
  {
   "cell_type": "code",
   "execution_count": 31,
   "metadata": {},
   "outputs": [],
   "source": [
    "def get_food_truck_data() -> pd.DataFrame:\n",
    "    df = pd.read_csv(food_truck_txt, header=None)\n",
    "    df.columns = ['population', 'profit']\n",
    "\n",
    "    return df"
   ]
  },
  {
   "cell_type": "code",
   "execution_count": 32,
   "metadata": {},
   "outputs": [
    {
     "data": {
      "text/html": [
       "<div>\n",
       "<style scoped>\n",
       "    .dataframe tbody tr th:only-of-type {\n",
       "        vertical-align: middle;\n",
       "    }\n",
       "\n",
       "    .dataframe tbody tr th {\n",
       "        vertical-align: top;\n",
       "    }\n",
       "\n",
       "    .dataframe thead th {\n",
       "        text-align: right;\n",
       "    }\n",
       "</style>\n",
       "<table border=\"1\" class=\"dataframe\">\n",
       "  <thead>\n",
       "    <tr style=\"text-align: right;\">\n",
       "      <th></th>\n",
       "      <th>population</th>\n",
       "      <th>profit</th>\n",
       "    </tr>\n",
       "  </thead>\n",
       "  <tbody>\n",
       "    <tr>\n",
       "      <th>0</th>\n",
       "      <td>6.1101</td>\n",
       "      <td>17.59200</td>\n",
       "    </tr>\n",
       "    <tr>\n",
       "      <th>1</th>\n",
       "      <td>5.5277</td>\n",
       "      <td>9.13020</td>\n",
       "    </tr>\n",
       "    <tr>\n",
       "      <th>2</th>\n",
       "      <td>8.5186</td>\n",
       "      <td>13.66200</td>\n",
       "    </tr>\n",
       "    <tr>\n",
       "      <th>3</th>\n",
       "      <td>7.0032</td>\n",
       "      <td>11.85400</td>\n",
       "    </tr>\n",
       "    <tr>\n",
       "      <th>4</th>\n",
       "      <td>5.8598</td>\n",
       "      <td>6.82330</td>\n",
       "    </tr>\n",
       "    <tr>\n",
       "      <th>...</th>\n",
       "      <td>...</td>\n",
       "      <td>...</td>\n",
       "    </tr>\n",
       "    <tr>\n",
       "      <th>92</th>\n",
       "      <td>5.8707</td>\n",
       "      <td>7.20290</td>\n",
       "    </tr>\n",
       "    <tr>\n",
       "      <th>93</th>\n",
       "      <td>5.3054</td>\n",
       "      <td>1.98690</td>\n",
       "    </tr>\n",
       "    <tr>\n",
       "      <th>94</th>\n",
       "      <td>8.2934</td>\n",
       "      <td>0.14454</td>\n",
       "    </tr>\n",
       "    <tr>\n",
       "      <th>95</th>\n",
       "      <td>13.3940</td>\n",
       "      <td>9.05510</td>\n",
       "    </tr>\n",
       "    <tr>\n",
       "      <th>96</th>\n",
       "      <td>5.4369</td>\n",
       "      <td>0.61705</td>\n",
       "    </tr>\n",
       "  </tbody>\n",
       "</table>\n",
       "<p>97 rows × 2 columns</p>\n",
       "</div>"
      ],
      "text/plain": [
       "    population    profit\n",
       "0       6.1101  17.59200\n",
       "1       5.5277   9.13020\n",
       "2       8.5186  13.66200\n",
       "3       7.0032  11.85400\n",
       "4       5.8598   6.82330\n",
       "..         ...       ...\n",
       "92      5.8707   7.20290\n",
       "93      5.3054   1.98690\n",
       "94      8.2934   0.14454\n",
       "95     13.3940   9.05510\n",
       "96      5.4369   0.61705\n",
       "\n",
       "[97 rows x 2 columns]"
      ]
     },
     "execution_count": 32,
     "metadata": {},
     "output_type": "execute_result"
    }
   ],
   "source": [
    "food_truck_df = get_food_truck_data()\n",
    "food_truck_df"
   ]
  },
  {
   "cell_type": "markdown",
   "metadata": {},
   "source": [
    "## Define a linear model to the data"
   ]
  },
  {
   "cell_type": "markdown",
   "metadata": {},
   "source": [
    "#### Define our prediction function as\n",
    "\n",
    "$$\n",
    "h_\\theta(X) = \\begin{pmatrix} 1 \\\\ x_1 \\\\ ... \\\\ x_n \\end{pmatrix} \\cdot \\begin{pmatrix} \\theta_0 \\\\ \\theta_1 \\\\ ... \\\\ \\theta_n \\end{pmatrix}\n",
    "$$\n",
    "\n",
    "$$\n",
    "= X \\cdot \\theta\n",
    "$$\n",
    "\n",
    "$$\n",
    "= \\theta_0 + \\theta_1 x_1 + ... + \\theta_n x_n\n",
    "$$\n"
   ]
  },
  {
   "cell_type": "markdown",
   "metadata": {},
   "source": [
    "#### We can then calculate our cost function as the following using least squares:\n",
    "\n",
    "$$\n",
    "J(\\theta) = (1/2m) \\sum_{i=1}^m(h_\\theta(X_i) - y_i)^2\n",
    "$$\n",
    "\n",
    "#### s.t. $X_i$ is the vector of variables of a row $i$"
   ]
  },
  {
   "cell_type": "markdown",
   "metadata": {},
   "source": [
    "#### We can then define our gradient descent as:\n",
    "\n",
    "$$\n",
    "\\theta_j = \\theta_j - \\alpha (\\partial/\\partial \\theta_j) J(\\theta)\n",
    "$$"
   ]
  },
  {
   "cell_type": "markdown",
   "metadata": {},
   "source": [
    "####\n",
    "\n",
    "$$\n",
    "(\\partial/\\partial \\theta_j) J(\\theta) = (\\partial/\\partial \\theta_j) (1/2m) \\sum_{i=1}^m(h_\\theta(X_i) - y_i)^2\n",
    "$$\n",
    "\n",
    "$$\n",
    "=(1/2m)((\\partial/\\partial \\theta_0)(h_\\theta(X_0)-y_0)^2 +\n",
    "$$\n",
    "\n",
    "$$\n",
    "(\\partial/\\partial \\theta_1)(h_\\theta(X_1)-y_1)^2 + ... +\n",
    "$$\n",
    "\n",
    "$$\n",
    "(\\partial/\\partial \\theta_m)(h_\\theta(X_m)-y_m)^2)\n",
    "$$"
   ]
  },
  {
   "cell_type": "markdown",
   "metadata": {},
   "source": [
    "#### Find differential and dont forget chain rule\n",
    "\n",
    "$$\n",
    "=(1/2m)(2 (h_\\theta(X_0)-y_0) (\\partial/\\partial \\theta_0)(h_\\theta(X_0)-y_0) +\n",
    "$$\n",
    "\n",
    "$$\n",
    "2 (h_\\theta(X_1)-y_1)(\\partial/\\partial \\theta_1)(h_\\theta(X_1)-y_1) + ... +\n",
    "$$\n",
    "\n",
    "$$\n",
    "2 (h_\\theta(X_m)-y_m) (\\partial/\\partial \\theta_m)(h_\\theta(X_m)-y_m))\n",
    "$$\n"
   ]
  },
  {
   "cell_type": "markdown",
   "metadata": {},
   "source": [
    "#### Remember that:\n",
    "\n",
    "$$\n",
    "h_\\theta(X) = \\begin{pmatrix} 1 \\\\ x_1 \\\\ ... \\\\ x_n \\end{pmatrix} \\cdot \\begin{pmatrix} \\theta_0 \\\\ \\theta_1 \\\\ ... \\\\ \\theta_n \\end{pmatrix} = \\theta_0 + \\theta_1 x_1 + ... + \\theta_n x_n\n",
    "$$\n",
    "\n",
    "#### So,\n",
    "\n",
    "$$\n",
    "= (1/2m)(2 (h_\\theta(X_0)-y_0) (\\partial/\\partial \\theta_0)(\\theta_0 + \\theta_1 x_1 + ... + \\theta_n x_n - y_0) +\n",
    "$$\n",
    "\n",
    "$$\n",
    "2 (h_\\theta(X_0)- y_1)(\\partial/\\partial \\theta_1)(\\theta_0 + \\theta_1 x_1 + ... + \\theta_n x_n - y_1) + ... +\n",
    "$$\n",
    "\n",
    "$$\n",
    "2 (h_\\theta(X_m)-y_m) (\\partial/\\partial \\theta_m)(\\theta_0 + \\theta_1 x_1 + ... + \\theta_m x_m - y_m))\n",
    "$$\n"
   ]
  },
  {
   "cell_type": "markdown",
   "metadata": {},
   "source": [
    "#### Therefore,\n",
    "$$\n",
    "(\\partial/\\partial \\theta)J_\\theta= (1/m)( (h_\\theta(X_0)-y_0) (\\partial/\\partial \\theta_0)(\\theta_0 + \\theta_1 x_1 + ... + \\theta_n x_n - y_0) +\n",
    "$$\n",
    "\n",
    "$$\n",
    "(h_\\theta(X_0)- y_1)(\\partial/\\partial \\theta_1)(\\theta_0 + \\theta_1 x_1 + ... + \\theta_n x_n - y_1) + ... +\n",
    "$$\n",
    "\n",
    "$$\n",
    "(h_\\theta(X_m)-y_m) (\\partial/\\partial \\theta_m)(\\theta_0 + \\theta_1 x_1 + ... + \\theta_n x_n - y_m))\n",
    "$$\n"
   ]
  },
  {
   "cell_type": "markdown",
   "metadata": {},
   "source": [
    "#### Which can be simplified\n",
    "\n",
    "$$\n",
    "(\\partial/\\partial \\theta)J_\\theta = (1/m)((h_\\theta(X_0) - y_0)(1) +\n",
    "$$\n",
    "\n",
    "$$\n",
    "(h_\\theta(X_1) - y_0)(x_1) + ... +\n",
    "$$\n",
    "\n",
    "$$\n",
    "(h_\\theta(X_m) - y_m)(x_n))\n",
    "$$\n"
   ]
  },
  {
   "cell_type": "markdown",
   "metadata": {},
   "source": [
    "#### Thus,\n",
    "\n",
    "$$\n",
    "(\\partial/\\partial \\theta)J_\\theta = (1/m) \\sum_{i=1}^m (h_\\theta(X_i) - y_i)x_i\n",
    "$$\n",
    "\n",
    "#### and $x_i$ can be expressed as a dot product, the same as $X$:\n",
    "\n",
    "$$\n",
    "X = \\begin{pmatrix} 1 \\\\ 1 \\\\ ... \\\\ 1 \\end{pmatrix} \\cdot \\begin{pmatrix} x_1 \\\\ x_2 \\\\ ... \\\\ x_n \\end{pmatrix}\n",
    "$$\n",
    "\n",
    "#### Therefore\n",
    "$$\n",
    "(\\partial/\\partial \\theta)J_\\theta = (1/m) \\sum_{i=1}^m (h_\\theta(X_i) - y_i)X_i\n",
    "$$"
   ]
  },
  {
   "cell_type": "markdown",
   "metadata": {},
   "source": [
    "#### So our gradient descent is:\n",
    "$$\n",
    "\\theta_j := \\theta_j - (\\alpha/m) \\sum_{i=0}^m(h_\\theta(X_i) - y_i)X_i\n",
    "$$"
   ]
  }
 ],
 "metadata": {
  "kernelspec": {
   "display_name": "Python 3 (ipykernel)",
   "language": "python",
   "name": "python3"
  },
  "language_info": {
   "codemirror_mode": {
    "name": "ipython",
    "version": 3
   },
   "file_extension": ".py",
   "mimetype": "text/x-python",
   "name": "python",
   "nbconvert_exporter": "python",
   "pygments_lexer": "ipython3",
   "version": "3.9.16"
  }
 },
 "nbformat": 4,
 "nbformat_minor": 1
}
