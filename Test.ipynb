{
 "cells": [
  {
   "cell_type": "code",
   "execution_count": 34,
   "outputs": [],
   "source": [
    "import numpy as np\n",
    "import pandas as pd"
   ],
   "metadata": {
    "collapsed": false
   }
  },
  {
   "cell_type": "code",
   "execution_count": 35,
   "outputs": [],
   "source": [
    "# def gradient_descent(_X, _y, _theta, learning_rate=0.01, iterations=100):\n",
    "#     m = len(_y)\n",
    "#     for _it in range(iterations):\n",
    "#         prediction = np.dot(_X, _theta)\n",
    "#         _theta = _theta - (1 / m) * learning_rate * (_X.T.dot((prediction - _y)))\n",
    "#\n",
    "#     return _theta\n",
    "\n",
    "df = pd.DataFrame(data={'living_area': [2104, 1600, 2400, 1416,3000], 'price': [400,330,369,232,540]})\n",
    "X = df[['living_area']]\n",
    "Y = df['price']\n",
    "lr = 0.01\n",
    "n_iter = 1000\n",
    "theta = pd.DataFrame(np.random.randn(2, 1))\n",
    "X_b = pd.DataFrame(data=np.c_[np.ones((len(X), 1)), X])\n",
    "\n",
    "m = len(Y)\n",
    "\n",
    "# prediction = np.dot(X_b, theta)\n",
    "prediction = X_b.dot(theta)\n",
    "a = prediction - Y\n",
    "theta = theta - (1 / m) * lr * (X_b.T.dot(a))\n",
    "\n",
    "# prediction = X_b.dot(theta)\n",
    "# a = prediction - Y\n",
    "# theta = theta - (1 / m) * lr * (X_b.T.dot(a))\n",
    "#\n",
    "# prediction = X_b.dot(theta)\n",
    "# a = prediction - Y\n",
    "# theta = theta - (1 / m) * lr * (X_b.T.dot(a))\n"
   ],
   "metadata": {
    "collapsed": false
   }
  }
 ],
 "metadata": {
  "kernelspec": {
   "display_name": "Python 3",
   "language": "python",
   "name": "python3"
  },
  "language_info": {
   "codemirror_mode": {
    "name": "ipython",
    "version": 2
   },
   "file_extension": ".py",
   "mimetype": "text/x-python",
   "name": "python",
   "nbconvert_exporter": "python",
   "pygments_lexer": "ipython2",
   "version": "2.7.6"
  }
 },
 "nbformat": 4,
 "nbformat_minor": 0
}
