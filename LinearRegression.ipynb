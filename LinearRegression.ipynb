{
 "cells": [
  {
   "cell_type": "markdown",
   "metadata": {},
   "source": [
    "\n",
    "### Cory Melendez\n",
    "### Assignment: Linear Regression\n",
    "### CS5262-50"
   ]
  },
  {
   "cell_type": "markdown",
   "metadata": {},
   "source": [
    "### group stuff together\n",
    "randn method"
   ]
  },
  {
   "cell_type": "code",
   "execution_count": 12,
   "metadata": {},
   "outputs": [],
   "source": [
    "import pandas as pd\n",
    "from typing import Callable\n",
    "import numpy as np"
   ]
  },
  {
   "cell_type": "code",
   "execution_count": 13,
   "metadata": {},
   "outputs": [],
   "source": [
    "food_truck_txt = 'food_truck_data.txt'\n",
    "housing_txt = 'housing_price_data.txt'"
   ]
  },
  {
   "cell_type": "code",
   "execution_count": 14,
   "metadata": {},
   "outputs": [],
   "source": [
    "def get_food_truck_data() -> pd.DataFrame:\n",
    "    df = pd.read_csv(food_truck_txt, header=None)\n",
    "    df.columns = ['population', 'profit']\n",
    "\n",
    "    return df"
   ]
  },
  {
   "cell_type": "code",
   "execution_count": 15,
   "metadata": {},
   "outputs": [
    {
     "data": {
      "text/plain": "    population    profit\n0       6.1101  17.59200\n1       5.5277   9.13020\n2       8.5186  13.66200\n3       7.0032  11.85400\n4       5.8598   6.82330\n..         ...       ...\n92      5.8707   7.20290\n93      5.3054   1.98690\n94      8.2934   0.14454\n95     13.3940   9.05510\n96      5.4369   0.61705\n\n[97 rows x 2 columns]",
      "text/html": "<div>\n<style scoped>\n    .dataframe tbody tr th:only-of-type {\n        vertical-align: middle;\n    }\n\n    .dataframe tbody tr th {\n        vertical-align: top;\n    }\n\n    .dataframe thead th {\n        text-align: right;\n    }\n</style>\n<table border=\"1\" class=\"dataframe\">\n  <thead>\n    <tr style=\"text-align: right;\">\n      <th></th>\n      <th>population</th>\n      <th>profit</th>\n    </tr>\n  </thead>\n  <tbody>\n    <tr>\n      <th>0</th>\n      <td>6.1101</td>\n      <td>17.59200</td>\n    </tr>\n    <tr>\n      <th>1</th>\n      <td>5.5277</td>\n      <td>9.13020</td>\n    </tr>\n    <tr>\n      <th>2</th>\n      <td>8.5186</td>\n      <td>13.66200</td>\n    </tr>\n    <tr>\n      <th>3</th>\n      <td>7.0032</td>\n      <td>11.85400</td>\n    </tr>\n    <tr>\n      <th>4</th>\n      <td>5.8598</td>\n      <td>6.82330</td>\n    </tr>\n    <tr>\n      <th>...</th>\n      <td>...</td>\n      <td>...</td>\n    </tr>\n    <tr>\n      <th>92</th>\n      <td>5.8707</td>\n      <td>7.20290</td>\n    </tr>\n    <tr>\n      <th>93</th>\n      <td>5.3054</td>\n      <td>1.98690</td>\n    </tr>\n    <tr>\n      <th>94</th>\n      <td>8.2934</td>\n      <td>0.14454</td>\n    </tr>\n    <tr>\n      <th>95</th>\n      <td>13.3940</td>\n      <td>9.05510</td>\n    </tr>\n    <tr>\n      <th>96</th>\n      <td>5.4369</td>\n      <td>0.61705</td>\n    </tr>\n  </tbody>\n</table>\n<p>97 rows × 2 columns</p>\n</div>"
     },
     "execution_count": 15,
     "metadata": {},
     "output_type": "execute_result"
    }
   ],
   "source": [
    "food_truck_df = get_food_truck_data()\n",
    "food_truck_df"
   ]
  },
  {
   "cell_type": "markdown",
   "metadata": {},
   "source": [
    "## Define a linear model to the data"
   ]
  },
  {
   "cell_type": "markdown",
   "metadata": {},
   "source": [
    "#### Define our prediction function as\n",
    "\n",
    "$$\n",
    "h_\\theta(X) = \\begin{pmatrix} 1 \\\\ x_1 \\\\ ... \\\\ x_n \\end{pmatrix} \\cdot \\begin{pmatrix} \\theta_0 \\\\ \\theta_1 \\\\ ... \\\\ \\theta_n \\end{pmatrix}\n",
    "$$\n",
    "\n",
    "$$\n",
    "= X \\cdot \\theta\n",
    "$$\n",
    "\n",
    "$$\n",
    "= \\theta_0 + \\theta_1 x_1 + ... + \\theta_n x_n\n",
    "$$\n"
   ]
  },
  {
   "cell_type": "markdown",
   "metadata": {},
   "source": [
    "#### We can then calculate our cost function as the following using least squares:\n",
    "\n",
    "$$\n",
    "J(\\theta) = (1/2m) \\sum_{i=1}^m(h_\\theta(X_i) - y_i)^2\n",
    "$$\n",
    "\n",
    "#### s.t. $X_i$ is the vector of variables of a row $i$"
   ]
  },
  {
   "cell_type": "markdown",
   "metadata": {},
   "source": [
    "#### We can then define our gradient descent as:\n",
    "\n",
    "$$\n",
    "\\theta_j = \\theta_j - \\alpha (\\partial/\\partial \\theta_j) J(\\theta)\n",
    "$$"
   ]
  },
  {
   "cell_type": "markdown",
   "metadata": {},
   "source": [
    "####\n",
    "\n",
    "$$\n",
    "(\\partial/\\partial \\theta_j) J(\\theta) = (\\partial/\\partial \\theta_j) (1/2m) \\sum_{i=1}^m(h_\\theta(X_i) - y_i)^2\n",
    "$$\n",
    "\n",
    "$$\n",
    "=(1/2m)((\\partial/\\partial \\theta_0)(h_\\theta(X_0)-y_0)^2 +\n",
    "$$\n",
    "\n",
    "$$\n",
    "(\\partial/\\partial \\theta_1)(h_\\theta(X_1)-y_1)^2 + ... +\n",
    "$$\n",
    "\n",
    "$$\n",
    "(\\partial/\\partial \\theta_m)(h_\\theta(X_m)-y_m)^2)\n",
    "$$"
   ]
  },
  {
   "cell_type": "markdown",
   "metadata": {},
   "source": [
    "#### Find differential and dont forget chain rule\n",
    "\n",
    "$$\n",
    "=(1/2m)(2 (h_\\theta(X_0)-y_0) (\\partial/\\partial \\theta_0)(h_\\theta(X_0)-y_0) +\n",
    "$$\n",
    "\n",
    "$$\n",
    "2 (h_\\theta(X_1)-y_1)(\\partial/\\partial \\theta_1)(h_\\theta(X_1)-y_1) + ... +\n",
    "$$\n",
    "\n",
    "$$\n",
    "2 (h_\\theta(X_m)-y_m) (\\partial/\\partial \\theta_m)(h_\\theta(X_m)-y_m))\n",
    "$$\n"
   ]
  },
  {
   "cell_type": "markdown",
   "metadata": {},
   "source": [
    "#### Remember that:\n",
    "\n",
    "$$\n",
    "h_\\theta(X) = \\begin{pmatrix} 1 \\\\ x_1 \\\\ ... \\\\ x_n \\end{pmatrix} \\cdot \\begin{pmatrix} \\theta_0 \\\\ \\theta_1 \\\\ ... \\\\ \\theta_n \\end{pmatrix} = \\theta_0 + \\theta_1 x_1 + ... + \\theta_n x_n\n",
    "$$\n",
    "\n",
    "#### So,\n",
    "\n",
    "$$\n",
    "= (1/2m)(2 (h_\\theta(X_0)-y_0) (\\partial/\\partial \\theta_0)(\\theta_0 + \\theta_1 x_1 + ... + \\theta_n x_n - y_0) +\n",
    "$$\n",
    "\n",
    "$$\n",
    "2 (h_\\theta(X_0)- y_1)(\\partial/\\partial \\theta_1)(\\theta_0 + \\theta_1 x_1 + ... + \\theta_n x_n - y_1) + ... +\n",
    "$$\n",
    "\n",
    "$$\n",
    "2 (h_\\theta(X_m)-y_m) (\\partial/\\partial \\theta_m)(\\theta_0 + \\theta_1 x_1 + ... + \\theta_m x_m - y_m))\n",
    "$$\n"
   ]
  },
  {
   "cell_type": "markdown",
   "metadata": {},
   "source": [
    "#### Therefore,\n",
    "$$\n",
    "(\\partial/\\partial \\theta)J_\\theta= (1/m)( (h_\\theta(X_0)-y_0) (\\partial/\\partial \\theta_0)(\\theta_0 + \\theta_1 x_1 + ... + \\theta_n x_n - y_0) +\n",
    "$$\n",
    "\n",
    "$$\n",
    "(h_\\theta(X_0)- y_1)(\\partial/\\partial \\theta_1)(\\theta_0 + \\theta_1 x_1 + ... + \\theta_n x_n - y_1) + ... +\n",
    "$$\n",
    "\n",
    "$$\n",
    "(h_\\theta(X_m)-y_m) (\\partial/\\partial \\theta_m)(\\theta_0 + \\theta_1 x_1 + ... + \\theta_n x_n - y_m))\n",
    "$$\n"
   ]
  },
  {
   "cell_type": "markdown",
   "metadata": {},
   "source": [
    "#### Which can be simplified\n",
    "\n",
    "$$\n",
    "(\\partial/\\partial \\theta)J_\\theta = (1/m)((h_\\theta(X_0) - y_0)(1) +\n",
    "$$\n",
    "\n",
    "$$\n",
    "(h_\\theta(X_1) - y_0)(x_1) + ... +\n",
    "$$\n",
    "\n",
    "$$\n",
    "(h_\\theta(X_m) - y_m)(x_n))\n",
    "$$\n"
   ]
  },
  {
   "cell_type": "markdown",
   "metadata": {},
   "source": [
    "#### Thus,\n",
    "\n",
    "$$\n",
    "(\\partial/\\partial \\theta)J_\\theta = (1/m) \\sum_{i=0}^m (h_\\theta(X_i) - y_i)x_{i,j}\n",
    "$$\n"
   ]
  },
  {
   "cell_type": "markdown",
   "metadata": {},
   "source": [
    "#### So our gradient descent is:\n",
    "$$\n",
    "\\theta_j := \\theta_j - (\\alpha/m) \\sum_{i=0}^m(h_\\theta(X_i) - y_i)x_{i,j}\n",
    "$$\n",
    "\n"
   ]
  },
  {
   "cell_type": "markdown",
   "source": [
    "\n",
    "#### We can re-arrange:\n",
    "\n",
    "$$\n",
    "\\theta_j := \\theta_j + (\\alpha/m) \\sum_{i=1}^m(y^{(i)} - h_\\theta(x^{(i)}))x_{j}^{(i)}\n",
    "$$\n"
   ],
   "metadata": {
    "collapsed": false
   }
  },
  {
   "cell_type": "code",
   "execution_count": 16,
   "outputs": [],
   "source": [
    "def get_X_j(_X: pd.DataFrame, jth_col: int) -> pd.Series:\n",
    "    if jth_col == 0:\n",
    "        return pd.Series([1] * get_m(_X))\n",
    "\n",
    "    return _X.iloc[:, jth_col-1]\n",
    "\n",
    "def get_X_i(_X: pd.DataFrame, ith_row: int) -> pd.Series:\n",
    "    if ith_row == 0:\n",
    "        return pd.Series([1] * (_X.shape[1] + 1))\n",
    "\n",
    "    s: pd.Series = _X.iloc[ith_row-1]\n",
    "    s = pd.Series([1]).append(s, ignore_index=True)\n",
    "    return s\n",
    "\n",
    "def get_m(_X: pd.DataFrame) -> int:\n",
    "    return _X.shape[0]\n",
    "\n",
    "def get_X_i_j(_X: pd.DataFrame, jth_col: int, ith_row: int) -> float:\n",
    "    s = get_X_j(_X, jth_col)\n",
    "    return s.iloc[ith_row-1]\n",
    "\n",
    "def get_prediction_series(_X: pd.DataFrame, _thetas: pd.Series) -> pd.Series:\n",
    "    s = []\n",
    "    for i in range(1, get_m(_X)+1):\n",
    "        x_i = get_X_i(_X, i)\n",
    "        s.append(x_i.dot(thetas))\n",
    "\n",
    "    return pd.Series(data=s)\n"
   ],
   "metadata": {
    "collapsed": false
   }
  },
  {
   "cell_type": "code",
   "execution_count": 17,
   "outputs": [],
   "source": [
    "Y = food_truck_df['profit']"
   ],
   "metadata": {
    "collapsed": false
   }
  },
  {
   "cell_type": "code",
   "execution_count": 18,
   "outputs": [],
   "source": [
    "X = food_truck_df[['population']]"
   ],
   "metadata": {
    "collapsed": false
   }
  },
  {
   "cell_type": "code",
   "execution_count": 19,
   "outputs": [
    {
     "name": "stdout",
     "output_type": "stream",
     "text": [
      "rows: 97, columns: 1\n"
     ]
    }
   ],
   "source": [
    "print(f'rows: {X.shape[0]}, columns: {X.shape[1]}')"
   ],
   "metadata": {
    "collapsed": false
   }
  },
  {
   "cell_type": "code",
   "execution_count": 20,
   "outputs": [],
   "source": [
    "# thetas = pd.Series(data=[2,-1])\n",
    "# alpha = .1\n",
    "# #number of rows\n",
    "# m = get_m(X)\n",
    "# X_0 = get_X_j(X,0)\n",
    "# P = get_prediction_series(X, thetas, 0)\n",
    "# y_minus_p = Y - P\n",
    "\n",
    "df = pd.DataFrame(data={'living_area': [2104, 1600, 2400, 1416,3000], 'price': [400,330,369,232,540]})\n",
    "# df = pd.DataFrame(data={'living_area': [2104], 'price': [400]})\n",
    "X = df[['living_area']]\n",
    "Y = df['price']\n",
    "thetas = pd.Series(data=[2,-1])\n"
   ],
   "metadata": {
    "collapsed": false
   }
  },
  {
   "cell_type": "code",
   "execution_count": 21,
   "outputs": [],
   "source": [
    "# previous_thetas = thetas.copy()\n",
    "# for it in range(0,1):\n",
    "#     for j in range(0, X.shape[1] + 1):\n",
    "#         print(f'it: {it}, j: {j}')\n",
    "#         X_j = get_X_j(X, j)\n",
    "#         P = get_prediction_series(X, previous_thetas)\n",
    "#         Y_minus_P = Y-P\n",
    "#         X_j_dot_Y_minus_P = X_j.dot(Y_minus_P)\n",
    "#         thetas[j] = previous_thetas[j] + (.1 * X_j_dot_Y_minus_P)\n",
    "#     previous_thetas = thetas\n",
    "\n",
    "# X_j = get_X_j(X, 0)\n",
    "# P = get_prediction_series(X, thetas)\n",
    "# Y_minus_P = Y-P\n",
    "# X_j_dot_Y_minus_P = X_j.dot(Y_minus_P)\n",
    "# theta_0 = thetas[0] + (.0001 * X_j_dot_Y_minus_P)\n",
    "#\n",
    "# X_j = get_X_j(X, 1)\n",
    "# P = get_prediction_series(X, thetas)\n",
    "# Y_minus_P = Y-P\n",
    "# X_j_dot_Y_minus_P = X_j.dot(Y_minus_P)\n",
    "# theta_1 = thetas[1] + (.0001 * X_j_dot_Y_minus_P)\n",
    "\n",
    "\n"
   ],
   "metadata": {
    "collapsed": false
   }
  },
  {
   "cell_type": "code",
   "execution_count": 22,
   "outputs": [
    {
     "name": "stderr",
     "output_type": "stream",
     "text": [
      "C:\\Users\\Cory\\AppData\\Local\\Temp\\ipykernel_108552\\697027712.py:12: FutureWarning: The series.append method is deprecated and will be removed from pandas in a future version. Use pandas.concat instead.\n",
      "  s = pd.Series([1]).append(s, ignore_index=True)\n",
      "C:\\Users\\Cory\\AppData\\Local\\Temp\\ipykernel_108552\\697027712.py:12: FutureWarning: The series.append method is deprecated and will be removed from pandas in a future version. Use pandas.concat instead.\n",
      "  s = pd.Series([1]).append(s, ignore_index=True)\n"
     ]
    },
    {
     "ename": "KeyboardInterrupt",
     "evalue": "",
     "output_type": "error",
     "traceback": [
      "\u001B[1;31m---------------------------------------------------------------------------\u001B[0m",
      "\u001B[1;31mKeyboardInterrupt\u001B[0m                         Traceback (most recent call last)",
      "Cell \u001B[1;32mIn[22], line 11\u001B[0m\n\u001B[0;32m      9\u001B[0m Y_minus_P \u001B[38;5;241m=\u001B[39m Y\u001B[38;5;241m-\u001B[39mP\n\u001B[0;32m     10\u001B[0m X_j_dot_Y_minus_P \u001B[38;5;241m=\u001B[39m X_j\u001B[38;5;241m.\u001B[39mdot(Y_minus_P)\n\u001B[1;32m---> 11\u001B[0m new_thetas[j] \u001B[38;5;241m=\u001B[39m \u001B[43mprevious_thetas\u001B[49m[j] \u001B[38;5;241m+\u001B[39m (\u001B[38;5;241m.001\u001B[39m \u001B[38;5;241m*\u001B[39m X_j_dot_Y_minus_P)\n",
      "Cell \u001B[1;32mIn[22], line 11\u001B[0m\n\u001B[0;32m      9\u001B[0m Y_minus_P \u001B[38;5;241m=\u001B[39m Y\u001B[38;5;241m-\u001B[39mP\n\u001B[0;32m     10\u001B[0m X_j_dot_Y_minus_P \u001B[38;5;241m=\u001B[39m X_j\u001B[38;5;241m.\u001B[39mdot(Y_minus_P)\n\u001B[1;32m---> 11\u001B[0m new_thetas[j] \u001B[38;5;241m=\u001B[39m \u001B[43mprevious_thetas\u001B[49m[j] \u001B[38;5;241m+\u001B[39m (\u001B[38;5;241m.001\u001B[39m \u001B[38;5;241m*\u001B[39m X_j_dot_Y_minus_P)\n",
      "File \u001B[1;32m_pydevd_bundle\\pydevd_cython_win32_39_64.pyx:1179\u001B[0m, in \u001B[0;36m_pydevd_bundle.pydevd_cython_win32_39_64.SafeCallWrapper.__call__\u001B[1;34m()\u001B[0m\n",
      "File \u001B[1;32m_pydevd_bundle\\pydevd_cython_win32_39_64.pyx:620\u001B[0m, in \u001B[0;36m_pydevd_bundle.pydevd_cython_win32_39_64.PyDBFrame.trace_dispatch\u001B[1;34m()\u001B[0m\n",
      "File \u001B[1;32m_pydevd_bundle\\pydevd_cython_win32_39_64.pyx:1095\u001B[0m, in \u001B[0;36m_pydevd_bundle.pydevd_cython_win32_39_64.PyDBFrame.trace_dispatch\u001B[1;34m()\u001B[0m\n",
      "File \u001B[1;32m_pydevd_bundle\\pydevd_cython_win32_39_64.pyx:1053\u001B[0m, in \u001B[0;36m_pydevd_bundle.pydevd_cython_win32_39_64.PyDBFrame.trace_dispatch\u001B[1;34m()\u001B[0m\n",
      "File \u001B[1;32m~\\AppData\\Local\\JetBrains\\Toolbox\\apps\\PyCharm-P\\ch-0\\223.8617.48\\plugins\\python\\helpers-pro\\jupyter_debug\\pydev_jupyter_plugin.py:169\u001B[0m, in \u001B[0;36mstop\u001B[1;34m(plugin, pydb, frame, event, args, stop_info, arg, step_cmd)\u001B[0m\n\u001B[0;32m    167\u001B[0m     frame \u001B[38;5;241m=\u001B[39m suspend_jupyter(main_debugger, thread, frame, step_cmd)\n\u001B[0;32m    168\u001B[0m     \u001B[38;5;28;01mif\u001B[39;00m frame:\n\u001B[1;32m--> 169\u001B[0m         \u001B[43mmain_debugger\u001B[49m\u001B[38;5;241;43m.\u001B[39;49m\u001B[43mdo_wait_suspend\u001B[49m\u001B[43m(\u001B[49m\u001B[43mthread\u001B[49m\u001B[43m,\u001B[49m\u001B[43m \u001B[49m\u001B[43mframe\u001B[49m\u001B[43m,\u001B[49m\u001B[43m \u001B[49m\u001B[43mevent\u001B[49m\u001B[43m,\u001B[49m\u001B[43m \u001B[49m\u001B[43marg\u001B[49m\u001B[43m)\u001B[49m\n\u001B[0;32m    170\u001B[0m         \u001B[38;5;28;01mreturn\u001B[39;00m \u001B[38;5;28;01mTrue\u001B[39;00m\n\u001B[0;32m    171\u001B[0m \u001B[38;5;28;01mreturn\u001B[39;00m \u001B[38;5;28;01mFalse\u001B[39;00m\n",
      "File \u001B[1;32m~\\AppData\\Local\\JetBrains\\Toolbox\\apps\\PyCharm-P\\ch-0\\223.8617.48\\plugins\\python\\helpers\\pydev\\pydevd.py:1160\u001B[0m, in \u001B[0;36mPyDB.do_wait_suspend\u001B[1;34m(self, thread, frame, event, arg, send_suspend_message, is_unhandled_exception)\u001B[0m\n\u001B[0;32m   1157\u001B[0m         from_this_thread\u001B[38;5;241m.\u001B[39mappend(frame_id)\n\u001B[0;32m   1159\u001B[0m \u001B[38;5;28;01mwith\u001B[39;00m \u001B[38;5;28mself\u001B[39m\u001B[38;5;241m.\u001B[39m_threads_suspended_single_notification\u001B[38;5;241m.\u001B[39mnotify_thread_suspended(thread_id, stop_reason):\n\u001B[1;32m-> 1160\u001B[0m     \u001B[38;5;28;43mself\u001B[39;49m\u001B[38;5;241;43m.\u001B[39;49m\u001B[43m_do_wait_suspend\u001B[49m\u001B[43m(\u001B[49m\u001B[43mthread\u001B[49m\u001B[43m,\u001B[49m\u001B[43m \u001B[49m\u001B[43mframe\u001B[49m\u001B[43m,\u001B[49m\u001B[43m \u001B[49m\u001B[43mevent\u001B[49m\u001B[43m,\u001B[49m\u001B[43m \u001B[49m\u001B[43marg\u001B[49m\u001B[43m,\u001B[49m\u001B[43m \u001B[49m\u001B[43msuspend_type\u001B[49m\u001B[43m,\u001B[49m\u001B[43m \u001B[49m\u001B[43mfrom_this_thread\u001B[49m\u001B[43m)\u001B[49m\n",
      "File \u001B[1;32m~\\AppData\\Local\\JetBrains\\Toolbox\\apps\\PyCharm-P\\ch-0\\223.8617.48\\plugins\\python\\helpers\\pydev\\pydevd.py:1175\u001B[0m, in \u001B[0;36mPyDB._do_wait_suspend\u001B[1;34m(self, thread, frame, event, arg, suspend_type, from_this_thread)\u001B[0m\n\u001B[0;32m   1172\u001B[0m             \u001B[38;5;28mself\u001B[39m\u001B[38;5;241m.\u001B[39m_call_mpl_hook()\n\u001B[0;32m   1174\u001B[0m         \u001B[38;5;28mself\u001B[39m\u001B[38;5;241m.\u001B[39mprocess_internal_commands()\n\u001B[1;32m-> 1175\u001B[0m         \u001B[43mtime\u001B[49m\u001B[38;5;241;43m.\u001B[39;49m\u001B[43msleep\u001B[49m\u001B[43m(\u001B[49m\u001B[38;5;241;43m0.01\u001B[39;49m\u001B[43m)\u001B[49m\n\u001B[0;32m   1177\u001B[0m \u001B[38;5;28mself\u001B[39m\u001B[38;5;241m.\u001B[39mcancel_async_evaluation(get_current_thread_id(thread), \u001B[38;5;28mstr\u001B[39m(\u001B[38;5;28mid\u001B[39m(frame)))\n\u001B[0;32m   1179\u001B[0m \u001B[38;5;66;03m# process any stepping instructions\u001B[39;00m\n",
      "\u001B[1;31mKeyboardInterrupt\u001B[0m: "
     ]
    }
   ],
   "source": [
    "\n",
    "previous_thetas = thetas.copy()\n",
    "new_thetas = thetas.copy()\n",
    "for it in range(0, 1000):\n",
    "    previous_thetas = new_thetas.copy()\n",
    "    for j in range(0, X.shape[1]+1):\n",
    "        X_j = get_X_j(X, j)\n",
    "        P = get_prediction_series(X, previous_thetas)\n",
    "        Y_minus_P = Y-P\n",
    "        X_j_dot_Y_minus_P = X_j.dot(Y_minus_P)\n",
    "        new_thetas[j] = previous_thetas[j] + (.001 * X_j_dot_Y_minus_P)\n"
   ],
   "metadata": {
    "collapsed": false
   }
  }
 ],
 "metadata": {
  "kernelspec": {
   "display_name": "Python 3 (ipykernel)",
   "language": "python",
   "name": "python3"
  },
  "language_info": {
   "codemirror_mode": {
    "name": "ipython",
    "version": 3
   },
   "file_extension": ".py",
   "mimetype": "text/x-python",
   "name": "python",
   "nbconvert_exporter": "python",
   "pygments_lexer": "ipython3",
   "version": "3.9.16"
  }
 },
 "nbformat": 4,
 "nbformat_minor": 1
}
