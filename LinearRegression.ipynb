{
 "cells": [
  {
   "cell_type": "markdown",
   "metadata": {},
   "source": [
    "\n",
    "### Cory Melendez\n",
    "### Assignment: Linear Regression\n",
    "### CS5262-50"
   ]
  },
  {
   "cell_type": "markdown",
   "metadata": {},
   "source": [
    "### group stuff together\n",
    "randn method"
   ]
  },
  {
   "cell_type": "code",
   "execution_count": 1813,
   "metadata": {},
   "outputs": [],
   "source": [
    "import pandas as pd\n",
    "from typing import Callable"
   ]
  },
  {
   "cell_type": "code",
   "execution_count": 1814,
   "metadata": {},
   "outputs": [],
   "source": [
    "food_truck_txt = 'food_truck_data.txt'\n",
    "housing_txt = 'housing_price_data.txt'"
   ]
  },
  {
   "cell_type": "code",
   "execution_count": 1815,
   "metadata": {},
   "outputs": [],
   "source": [
    "def get_food_truck_data() -> pd.DataFrame:\n",
    "    df = pd.read_csv(food_truck_txt, header=None)\n",
    "    df.columns = ['population', 'profit']\n",
    "\n",
    "    return df"
   ]
  },
  {
   "cell_type": "code",
   "execution_count": 1816,
   "metadata": {},
   "outputs": [
    {
     "data": {
      "text/plain": "    population    profit\n0       6.1101  17.59200\n1       5.5277   9.13020\n2       8.5186  13.66200\n3       7.0032  11.85400\n4       5.8598   6.82330\n..         ...       ...\n92      5.8707   7.20290\n93      5.3054   1.98690\n94      8.2934   0.14454\n95     13.3940   9.05510\n96      5.4369   0.61705\n\n[97 rows x 2 columns]",
      "text/html": "<div>\n<style scoped>\n    .dataframe tbody tr th:only-of-type {\n        vertical-align: middle;\n    }\n\n    .dataframe tbody tr th {\n        vertical-align: top;\n    }\n\n    .dataframe thead th {\n        text-align: right;\n    }\n</style>\n<table border=\"1\" class=\"dataframe\">\n  <thead>\n    <tr style=\"text-align: right;\">\n      <th></th>\n      <th>population</th>\n      <th>profit</th>\n    </tr>\n  </thead>\n  <tbody>\n    <tr>\n      <th>0</th>\n      <td>6.1101</td>\n      <td>17.59200</td>\n    </tr>\n    <tr>\n      <th>1</th>\n      <td>5.5277</td>\n      <td>9.13020</td>\n    </tr>\n    <tr>\n      <th>2</th>\n      <td>8.5186</td>\n      <td>13.66200</td>\n    </tr>\n    <tr>\n      <th>3</th>\n      <td>7.0032</td>\n      <td>11.85400</td>\n    </tr>\n    <tr>\n      <th>4</th>\n      <td>5.8598</td>\n      <td>6.82330</td>\n    </tr>\n    <tr>\n      <th>...</th>\n      <td>...</td>\n      <td>...</td>\n    </tr>\n    <tr>\n      <th>92</th>\n      <td>5.8707</td>\n      <td>7.20290</td>\n    </tr>\n    <tr>\n      <th>93</th>\n      <td>5.3054</td>\n      <td>1.98690</td>\n    </tr>\n    <tr>\n      <th>94</th>\n      <td>8.2934</td>\n      <td>0.14454</td>\n    </tr>\n    <tr>\n      <th>95</th>\n      <td>13.3940</td>\n      <td>9.05510</td>\n    </tr>\n    <tr>\n      <th>96</th>\n      <td>5.4369</td>\n      <td>0.61705</td>\n    </tr>\n  </tbody>\n</table>\n<p>97 rows × 2 columns</p>\n</div>"
     },
     "execution_count": 1816,
     "metadata": {},
     "output_type": "execute_result"
    }
   ],
   "source": [
    "food_truck_df = get_food_truck_data()\n",
    "food_truck_df"
   ]
  },
  {
   "cell_type": "markdown",
   "metadata": {},
   "source": [
    "## Define a linear model to the data"
   ]
  },
  {
   "cell_type": "markdown",
   "metadata": {},
   "source": [
    "#### Define our prediction function as\n",
    "\n",
    "$$\n",
    "h_\\theta(X) = \\begin{pmatrix} 1 \\\\ x_1 \\\\ ... \\\\ x_n \\end{pmatrix} \\cdot \\begin{pmatrix} \\theta_0 \\\\ \\theta_1 \\\\ ... \\\\ \\theta_n \\end{pmatrix}\n",
    "$$\n",
    "\n",
    "$$\n",
    "= X \\cdot \\theta\n",
    "$$\n",
    "\n",
    "$$\n",
    "= \\theta_0 + \\theta_1 x_1 + ... + \\theta_n x_n\n",
    "$$\n"
   ]
  },
  {
   "cell_type": "markdown",
   "metadata": {},
   "source": [
    "#### We can then calculate our cost function as the following using least squares:\n",
    "\n",
    "$$\n",
    "J(\\theta) = (1/2m) \\sum_{i=1}^m(h_\\theta(X_i) - y_i)^2\n",
    "$$\n",
    "\n",
    "#### s.t. $X_i$ is the vector of variables of a row $i$"
   ]
  },
  {
   "cell_type": "markdown",
   "metadata": {},
   "source": [
    "#### We can then define our gradient descent as:\n",
    "\n",
    "$$\n",
    "\\theta_j = \\theta_j - \\alpha (\\partial/\\partial \\theta_j) J(\\theta)\n",
    "$$"
   ]
  },
  {
   "cell_type": "markdown",
   "metadata": {},
   "source": [
    "####\n",
    "\n",
    "$$\n",
    "(\\partial/\\partial \\theta_j) J(\\theta) = (\\partial/\\partial \\theta_j) (1/2m) \\sum_{i=1}^m(h_\\theta(X_i) - y_i)^2\n",
    "$$\n",
    "\n",
    "$$\n",
    "=(1/2m)((\\partial/\\partial \\theta_0)(h_\\theta(X_0)-y_0)^2 +\n",
    "$$\n",
    "\n",
    "$$\n",
    "(\\partial/\\partial \\theta_1)(h_\\theta(X_1)-y_1)^2 + ... +\n",
    "$$\n",
    "\n",
    "$$\n",
    "(\\partial/\\partial \\theta_m)(h_\\theta(X_m)-y_m)^2)\n",
    "$$"
   ]
  },
  {
   "cell_type": "markdown",
   "metadata": {},
   "source": [
    "#### Find differential and dont forget chain rule\n",
    "\n",
    "$$\n",
    "=(1/2m)(2 (h_\\theta(X_0)-y_0) (\\partial/\\partial \\theta_0)(h_\\theta(X_0)-y_0) +\n",
    "$$\n",
    "\n",
    "$$\n",
    "2 (h_\\theta(X_1)-y_1)(\\partial/\\partial \\theta_1)(h_\\theta(X_1)-y_1) + ... +\n",
    "$$\n",
    "\n",
    "$$\n",
    "2 (h_\\theta(X_m)-y_m) (\\partial/\\partial \\theta_m)(h_\\theta(X_m)-y_m))\n",
    "$$\n"
   ]
  },
  {
   "cell_type": "markdown",
   "metadata": {},
   "source": [
    "#### Remember that:\n",
    "\n",
    "$$\n",
    "h_\\theta(X) = \\begin{pmatrix} 1 \\\\ x_1 \\\\ ... \\\\ x_n \\end{pmatrix} \\cdot \\begin{pmatrix} \\theta_0 \\\\ \\theta_1 \\\\ ... \\\\ \\theta_n \\end{pmatrix} = \\theta_0 + \\theta_1 x_1 + ... + \\theta_n x_n\n",
    "$$\n",
    "\n",
    "#### So,\n",
    "\n",
    "$$\n",
    "= (1/2m)(2 (h_\\theta(X_0)-y_0) (\\partial/\\partial \\theta_0)(\\theta_0 + \\theta_1 x_1 + ... + \\theta_n x_n - y_0) +\n",
    "$$\n",
    "\n",
    "$$\n",
    "2 (h_\\theta(X_0)- y_1)(\\partial/\\partial \\theta_1)(\\theta_0 + \\theta_1 x_1 + ... + \\theta_n x_n - y_1) + ... +\n",
    "$$\n",
    "\n",
    "$$\n",
    "2 (h_\\theta(X_m)-y_m) (\\partial/\\partial \\theta_m)(\\theta_0 + \\theta_1 x_1 + ... + \\theta_m x_m - y_m))\n",
    "$$\n"
   ]
  },
  {
   "cell_type": "markdown",
   "metadata": {},
   "source": [
    "#### Therefore,\n",
    "$$\n",
    "(\\partial/\\partial \\theta)J_\\theta= (1/m)( (h_\\theta(X_0)-y_0) (\\partial/\\partial \\theta_0)(\\theta_0 + \\theta_1 x_1 + ... + \\theta_n x_n - y_0) +\n",
    "$$\n",
    "\n",
    "$$\n",
    "(h_\\theta(X_0)- y_1)(\\partial/\\partial \\theta_1)(\\theta_0 + \\theta_1 x_1 + ... + \\theta_n x_n - y_1) + ... +\n",
    "$$\n",
    "\n",
    "$$\n",
    "(h_\\theta(X_m)-y_m) (\\partial/\\partial \\theta_m)(\\theta_0 + \\theta_1 x_1 + ... + \\theta_n x_n - y_m))\n",
    "$$\n"
   ]
  },
  {
   "cell_type": "markdown",
   "metadata": {},
   "source": [
    "#### Which can be simplified\n",
    "\n",
    "$$\n",
    "(\\partial/\\partial \\theta)J_\\theta = (1/m)((h_\\theta(X_0) - y_0)(1) +\n",
    "$$\n",
    "\n",
    "$$\n",
    "(h_\\theta(X_1) - y_0)(x_1) + ... +\n",
    "$$\n",
    "\n",
    "$$\n",
    "(h_\\theta(X_m) - y_m)(x_n))\n",
    "$$\n"
   ]
  },
  {
   "cell_type": "markdown",
   "metadata": {},
   "source": [
    "#### Thus,\n",
    "\n",
    "$$\n",
    "(\\partial/\\partial \\theta)J_\\theta = (1/m) \\sum_{i=0}^m (h_\\theta(X_i) - y_i)x_{i,j}\n",
    "$$\n",
    "\n"
   ]
  },
  {
   "cell_type": "markdown",
   "metadata": {},
   "source": [
    "#### So our gradient descent is:\n",
    "$$\n",
    "\\theta_j := \\theta_j - (\\alpha/m) \\sum_{i=0}^m(h_\\theta(X_i) - y_i)x_{i,j}\n",
    "$$"
   ]
  },
  {
   "cell_type": "code",
   "execution_count": 1816,
   "outputs": [],
   "source": [],
   "metadata": {
    "collapsed": false
   }
  },
  {
   "cell_type": "code",
   "execution_count": 1817,
   "outputs": [],
   "source": [
    "def h_theta(x: pd.Series, theta: pd.Series) -> float:\n",
    "    if theta.count() != x.count():\n",
    "        raise ValueError(f'x.count: {x.count()} theta.count: {theta.count()}')\n",
    "\n",
    "    dot_prod = theta[0]\n",
    "    for i in range(1, x.count()):\n",
    "        dot_prod += x[i] * theta[i]\n",
    "\n",
    "    return dot_prod\n",
    "\n",
    "def j_pde(j: int, x: pd.DataFrame, theta: pd.Series, y: pd.Series, m: int) -> float:\n",
    "    s:float = 0.0\n",
    "\n",
    "    #m is number of columns (not including x0)\n",
    "    #m is the number of data points\n",
    "\n",
    "    for i in range(1, m+1):\n",
    "        yi: float = float(y[i-1])\n",
    "        htheta: float = h_theta(x.iloc[i-1], theta)\n",
    "        xij: float = float(x.iloc[i-1,j])\n",
    "        add:float = (yi - htheta) * xij\n",
    "        print(f'theta={j}, m={i}:({yi} - {htheta}) * {xij} = {add}')\n",
    "        s += add\n",
    "\n",
    "\n",
    "    return s\n",
    "\n",
    "def theta_j(prev_theta_j: float, j: int, alpha: float, x:pd.DataFrame, theta: pd.Series, y: pd.Series) -> float:\n",
    "    m = x.shape[0]\n",
    "    jpde = j_pde(j,x,theta, y, m)\n",
    "    z = prev_theta_j + ((alpha/m) * jpde)\n",
    "    print(f'theta_{j}= {prev_theta_j} + (({alpha}/{m}) * {jpde}) = {z}')\n",
    "    return z\n"
   ],
   "metadata": {
    "collapsed": false
   }
  },
  {
   "cell_type": "code",
   "execution_count": 1818,
   "outputs": [],
   "source": [
    "a: float = .1\n",
    "thetas: pd.Series = pd.Series([2.0,-1.0])\n",
    "test_df: pd.DataFrame = pd.DataFrame(data={'living_area': [2104, 1600, 2400, 1416, 3000], 'price': [400,330,369,232,540]})\n",
    "y_actual: pd.Series = test_df['price']\n",
    "living_area = test_df['living_area']\n",
    "X = pd.DataFrame(data={0: pd.Series(1, index=range(test_df['living_area'].count())), 1: test_df['living_area']})"
   ],
   "metadata": {
    "collapsed": false
   }
  },
  {
   "cell_type": "code",
   "execution_count": 1819,
   "outputs": [
    {
     "name": "stdout",
     "output_type": "stream",
     "text": [
      "\n",
      "theta_0: 2.0, theta_1: -1.0\n",
      "\n",
      "theta=0, m=1:(400.0 - -2102.0) * 1.0 = 2502.0\n",
      "theta=0, m=2:(330.0 - -1598.0) * 1.0 = 1928.0\n",
      "theta=0, m=3:(369.0 - -2398.0) * 1.0 = 2767.0\n",
      "theta=0, m=4:(232.0 - -1414.0) * 1.0 = 1646.0\n",
      "theta=0, m=5:(540.0 - -2998.0) * 1.0 = 3538.0\n",
      "theta_0= 2.0 + ((0.1/1) * 12381.0) = 1240.1000000000001\n",
      "theta=1, m=1:(400.0 - -2102.0) * 2104.0 = 5264208.0\n",
      "theta=1, m=2:(330.0 - -1598.0) * 1600.0 = 3084800.0\n",
      "theta=1, m=3:(369.0 - -2398.0) * 2400.0 = 6640800.0\n",
      "theta=1, m=4:(232.0 - -1414.0) * 1416.0 = 2330736.0\n",
      "theta=1, m=5:(540.0 - -2998.0) * 3000.0 = 10614000.0\n",
      "theta_1= -1.0 + ((0.1/1) * 27934544.0) = 2793453.4000000004\n"
     ]
    }
   ],
   "source": [
    "for count in range(0, 1):\n",
    "    print()\n",
    "    print(f'theta_0: {thetas[0]}, theta_1: {thetas[1]}\\n')\n",
    "    theta_0 = theta_j(thetas[0], 0, a, X, thetas, y_actual)\n",
    "    theta_1 = theta_j(thetas[1], 1, a, X, thetas, y_actual)\n",
    "\n",
    "    thetas[0] = theta_0\n",
    "    thetas[1] = theta_1\n",
    "\n",
    "\n",
    "\n",
    "\n"
   ],
   "metadata": {
    "collapsed": false
   }
  }
 ],
 "metadata": {
  "kernelspec": {
   "display_name": "Python 3 (ipykernel)",
   "language": "python",
   "name": "python3"
  },
  "language_info": {
   "codemirror_mode": {
    "name": "ipython",
    "version": 3
   },
   "file_extension": ".py",
   "mimetype": "text/x-python",
   "name": "python",
   "nbconvert_exporter": "python",
   "pygments_lexer": "ipython3",
   "version": "3.9.16"
  }
 },
 "nbformat": 4,
 "nbformat_minor": 1
}
